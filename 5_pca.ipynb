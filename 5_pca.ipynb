{
 "cells": [
  {
   "cell_type": "code",
   "execution_count": 2,
   "metadata": {},
   "outputs": [],
   "source": [
    "import numpy as np\n",
    "import pandas as pd\n",
    "from sklearn.datasets import load_breast_cancer"
   ]
  },
  {
   "cell_type": "markdown",
   "metadata": {},
   "source": [
    "#### Prepering the data"
   ]
  },
  {
   "cell_type": "code",
   "execution_count": 10,
   "metadata": {},
   "outputs": [
    {
     "data": {
      "text/plain": [
       "(569, 30)"
      ]
     },
     "execution_count": 10,
     "metadata": {},
     "output_type": "execute_result"
    }
   ],
   "source": [
    "breastCancer = load_breast_cancer()\n",
    "X = breastCancer[\"data\"]\n",
    "X.shape"
   ]
  },
  {
   "cell_type": "markdown",
   "metadata": {},
   "source": [
    "#### Step 1 Normalizing the data "
   ]
  },
  {
   "cell_type": "code",
   "execution_count": 18,
   "metadata": {},
   "outputs": [
    {
     "name": "stdout",
     "output_type": "stream",
     "text": [
      "[-2.18532476e-17  1.03802926e-15  5.45706811e-15  1.67832941e-14\n",
      " -4.13406860e-18  1.29265862e-18 -1.51216669e-18  2.43897853e-19\n",
      " -9.66445241e-18  6.09744631e-21  2.12191132e-18 -1.67313927e-17\n",
      "  1.36582797e-17 -5.61940652e-16 -6.02599186e-20 -4.26821242e-20\n",
      " -4.26821242e-19  6.09744631e-21 -2.31702960e-19 -1.60057966e-20\n",
      "  5.91598631e-16 -1.55938531e-15  2.12288691e-15  1.59840897e-14\n",
      " -8.04862913e-19  1.00973711e-17 -2.53653767e-18  1.46338712e-18\n",
      "  3.44437120e-17  2.31702960e-19]\n"
     ]
    }
   ],
   "source": [
    "_X = X - X.mean(axis=0)\n",
    "print(_X.mean(axis=0))"
   ]
  },
  {
   "cell_type": "markdown",
   "metadata": {},
   "source": [
    "#### Step 2 Coveriance Matrix"
   ]
  },
  {
   "cell_type": "code",
   "execution_count": 19,
   "metadata": {},
   "outputs": [
    {
     "data": {
      "text/plain": [
       "(30, 30)"
      ]
     },
     "execution_count": 19,
     "metadata": {},
     "output_type": "execute_result"
    }
   ],
   "source": [
    "S = np.dot(_X.T, _X);\n",
    "S.shape"
   ]
  },
  {
   "cell_type": "markdown",
   "metadata": {},
   "source": [
    "#### Step 3 Eigenvalues decomposition "
   ]
  },
  {
   "cell_type": "code",
   "execution_count": 33,
   "metadata": {},
   "outputs": [
    {
     "name": "stdout",
     "output_type": "stream",
     "text": [
      "[2.52068520e+08 4.15213684e+06 3.99777565e+05 3.10404831e+04\n",
      " 2.26575301e+04]\n"
     ]
    },
    {
     "data": {
      "text/plain": [
       "(30,)"
      ]
     },
     "execution_count": 33,
     "metadata": {},
     "output_type": "execute_result"
    }
   ],
   "source": [
    "eigenvalues, eigenvectors =  np.linalg.eig(S)\n",
    "print(eigenvalues[:5])\n",
    "eigenvectors[:,0].shape #for ith value of \n"
   ]
  },
  {
   "cell_type": "markdown",
   "metadata": {},
   "source": [
    "#### Step 4 Vectors"
   ]
  },
  {
   "cell_type": "code",
   "execution_count": 63,
   "metadata": {},
   "outputs": [
    {
     "data": {
      "text/plain": [
       "(30, 3)"
      ]
     },
     "execution_count": 63,
     "metadata": {},
     "output_type": "execute_result"
    }
   ],
   "source": [
    "V = eigenvectors[:,:3] #taking the first 3 vectors out of 30\n",
    "V.shape"
   ]
  },
  {
   "cell_type": "markdown",
   "metadata": {},
   "source": [
    "#### Projection"
   ]
  },
  {
   "cell_type": "code",
   "execution_count": 64,
   "metadata": {},
   "outputs": [
    {
     "name": "stdout",
     "output_type": "stream",
     "text": [
      "(569, 30)\n"
     ]
    },
    {
     "data": {
      "text/plain": [
       "(569, 3)"
      ]
     },
     "execution_count": 64,
     "metadata": {},
     "output_type": "execute_result"
    }
   ],
   "source": [
    "projected_X = np.dot(_X,V)\n",
    "print(X.shape)\n",
    "projected_X.shape # Reduced from 30 dimentions to 3 dimention"
   ]
  },
  {
   "cell_type": "code",
   "execution_count": 75,
   "metadata": {},
   "outputs": [],
   "source": [
    "total = sum(eigenvalues)\n",
    "explained_variance = np.round(eigenvalues/total, 9)\n",
    "cummulative_variance = np.cumsum(explained_variance)"
   ]
  },
  {
   "cell_type": "code",
   "execution_count": 77,
   "metadata": {},
   "outputs": [],
   "source": [
    "import matplotlib.pyplot as plt"
   ]
  },
  {
   "cell_type": "code",
   "execution_count": 88,
   "metadata": {},
   "outputs": [
    {
     "data": {
      "image/png": "[encoded data removed]",
      "text/plain": [
       "<Figure size 640x480 with 1 Axes>"
      ]
     },
     "metadata": {},
     "output_type": "display_data"
    }
   ],
   "source": [
    "plt.plot(cummulative_variance, marker = \"o\")\n",
    "plt.grid(True)\n",
    "plt.xlabel(\"number of dimentions\")\n",
    "plt.ylabel(\"Cummulative variance \")\n",
    "plt.show()"
   ]
  },
  {
   "cell_type": "markdown",
   "metadata": {},
   "source": [
    "#### Sklearn implementation"
   ]
  },
  {
   "cell_type": "code",
   "execution_count": 71,
   "metadata": {},
   "outputs": [
    {
     "name": "stdout",
     "output_type": "stream",
     "text": [
      "[[1160.1425737  -293.91754364   48.57839763]\n",
      " [1269.12244319   15.63018184  -35.39453423]\n",
      " [ 995.79388896   39.15674324   -1.70975298]\n",
      " ...\n",
      " [ 314.50175618   47.55352518  -10.44240718]\n",
      " [1124.85811531   34.12922497  -19.74208742]\n",
      " [-771.52762188  -88.64310636   23.88903189]]\n"
     ]
    },
    {
     "data": {
      "text/plain": [
       "0.9997786721191874"
      ]
     },
     "execution_count": 71,
     "metadata": {},
     "output_type": "execute_result"
    }
   ],
   "source": [
    "from sklearn.decomposition import PCA\n",
    "\n",
    "pca = PCA(n_components=3)\n",
    "\n",
    "print(projected_X)\n",
    "pca.fit_transform(X)\n",
    "np.sum(pca.explained_variance_ratio_)"
   ]
  },
  {
   "cell_type": "code",
   "execution_count": null,
   "metadata": {},
   "outputs": [],
   "source": []
  }
 ],
 "metadata": {
  "kernelspec": {
   "display_name": "Python 3",
   "language": "python",
   "name": "python3"
  },
  "language_info": {
   "codemirror_mode": {
    "name": "ipython",
    "version": 3
   },
   "file_extension": ".py",
   "mimetype": "text/x-python",
   "name": "python",
   "nbconvert_exporter": "python",
   "pygments_lexer": "ipython3",
   "version": "3.12.1"
  }
 },
 "nbformat": 4,
 "nbformat_minor": 2
}
